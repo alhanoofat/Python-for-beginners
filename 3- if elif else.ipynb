{
 "cells": [
  {
   "cell_type": "markdown",
   "id": "f3c1beb0",
   "metadata": {},
   "source": [
    "### if, elif, else"
   ]
  },
  {
   "cell_type": "markdown",
   "id": "65f45437",
   "metadata": {},
   "source": [
    "<b>It goes by the syntax:</b><br><br>\n",
    "if <i>condition</i>:<br>\n",
    "&emsp;<i>statements</i><br>\n",
    "elif <i>condition</i>:<br>\n",
    "&emsp;<i>statements</i><br>\n",
    "else:<br>\n",
    "&emsp;<i>statements</i>\n"
   ]
  },
  {
   "cell_type": "markdown",
   "id": "42b51eed",
   "metadata": {},
   "source": [
    "create a list containing the grades of 14 students. the grades are as follows:<br>\n",
    "55,60,87,47,96,38,77,58,71,80,85,92,78,56<br>\n",
    "iterate through the grades to check if they passed or failed. a student passes when they score at least 60.<br>\n",
    "print the grade of each student along with their status (pass / fail)"
   ]
  },
  {
   "cell_type": "code",
   "execution_count": null,
   "id": "94511e83",
   "metadata": {},
   "outputs": [],
   "source": [
    "g=[70,60,87,47,96,38,77,58,71,80,85,92,78,56]\n",
    "for i in range(len(g)):\n",
    "    if g[i]>=60:\n",
    "        print(str(g[i])+' pass')\n",
    "    else:\n",
    "        print(str(g[i])+' fail')"
   ]
  },
  {
   "cell_type": "markdown",
   "id": "413c0bf2",
   "metadata": {},
   "source": [
    "create a list containing names of saudi cities as follows:<br>\n",
    "'hofuf','buraydah','khamis mushait','ula','kharkhir','dhahran','yanbu','hail','rijal almaa','qurayyat'<br>\n",
    "iterate through the list. if the length of the city name is 4 letters or less, print the city name along with the word (short). if the length of the name is longer than 6, print the city name along with the word (long). otherwise, print the city name along with the word (medium)."
   ]
  },
  {
   "cell_type": "code",
   "execution_count": null,
   "id": "f1342603",
   "metadata": {},
   "outputs": [],
   "source": []
  },
  {
   "cell_type": "markdown",
   "id": "9bec8203",
   "metadata": {},
   "source": [
    "<hr>"
   ]
  },
  {
   "cell_type": "markdown",
   "id": "7053954b",
   "metadata": {},
   "source": [
    "### Homework"
   ]
  },
  {
   "cell_type": "markdown",
   "id": "8723c83f",
   "metadata": {},
   "source": [
    "Iterate from 1 to 15, printing the number and whether it is odd or even."
   ]
  },
  {
   "cell_type": "code",
   "execution_count": null,
   "id": "52cc2300",
   "metadata": {},
   "outputs": [],
   "source": []
  },
  {
   "cell_type": "markdown",
   "id": "a7340bf9",
   "metadata": {},
   "source": [
    "Calculate the cube of the following numbers: 3,2,4,8"
   ]
  },
  {
   "cell_type": "code",
   "execution_count": null,
   "id": "798e964e",
   "metadata": {},
   "outputs": [],
   "source": []
  },
  {
   "cell_type": "markdown",
   "id": "0fd5c5ef",
   "metadata": {},
   "source": [
    "Iterate through the animals. Print out the animal name and the number of vowels in the name.<br>\n",
    "*Hint: use nested loops"
   ]
  },
  {
   "cell_type": "code",
   "execution_count": null,
   "id": "6eef995e",
   "metadata": {},
   "outputs": [],
   "source": [
    "animals = ['duck', 'rat', 'boar', 'elefant', 'mammoth', 'gazelle']"
   ]
  },
  {
   "cell_type": "code",
   "execution_count": null,
   "id": "82328ad4",
   "metadata": {},
   "outputs": [],
   "source": [
    "f=['a','e','u','i','o']\n",
    "for i in animals:\n",
    "    c=0\n",
    "    for j in i:\n",
    "        if j in f:\n",
    "            c+=1\n",
    "            \n",
    "    print(i+' '+str(c))"
   ]
  },
  {
   "cell_type": "code",
   "execution_count": null,
   "id": "f9cb24a3",
   "metadata": {},
   "outputs": [],
   "source": [
    "f=['a','e','u','i','o']\n",
    "for i in range(len(animals)):\n",
    "    c=0\n",
    "    for j in range(len(animals[i])):        \n",
    "        if animals[i][j] in f:\n",
    "            c+=1\n",
    "            \n",
    "    print(animals[i]+ ' '+str(c))"
   ]
  },
  {
   "cell_type": "markdown",
   "id": "fd424f1e",
   "metadata": {},
   "source": [
    "Calculate the sum of all numbers from 1 to 15"
   ]
  },
  {
   "cell_type": "code",
   "execution_count": null,
   "id": "f2b6434e",
   "metadata": {},
   "outputs": [],
   "source": [
    "c=0\n",
    "for i in range(15):\n",
    "    c=c+i+1\n",
    "    print(c)"
   ]
  },
  {
   "cell_type": "code",
   "execution_count": null,
   "id": "847dbd7a",
   "metadata": {},
   "outputs": [],
   "source": [
    "c=0\n",
    "for i in range(1,16):\n",
    "    c=c+i\n",
    "    print(c)"
   ]
  },
  {
   "cell_type": "code",
   "execution_count": null,
   "id": "0e7b62a6",
   "metadata": {},
   "outputs": [],
   "source": []
  }
 ],
 "metadata": {
  "kernelspec": {
   "display_name": "Python 3 (ipykernel)",
   "language": "python",
   "name": "python3"
  },
  "language_info": {
   "codemirror_mode": {
    "name": "ipython",
    "version": 3
   },
   "file_extension": ".py",
   "mimetype": "text/x-python",
   "name": "python",
   "nbconvert_exporter": "python",
   "pygments_lexer": "ipython3",
   "version": "3.9.7"
  }
 },
 "nbformat": 4,
 "nbformat_minor": 5
}
