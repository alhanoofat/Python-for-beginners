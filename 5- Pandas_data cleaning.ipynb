{
 "cells": [
  {
   "cell_type": "markdown",
   "id": "ee4f1975",
   "metadata": {},
   "source": [
    "## Data Cleaning"
   ]
  },
  {
   "cell_type": "markdown",
   "id": "25977c8e",
   "metadata": {},
   "source": [
    "Data cleaning means fixing bad data in your data set.\n",
    "<br>Bad data could be:\n",
    "* Empty cells\n",
    "* Data in wrong format\n",
    "* Wrong data\n",
    "* Duplicates\n"
   ]
  },
  {
   "cell_type": "code",
   "execution_count": 2,
   "id": "7076d8f0",
   "metadata": {},
   "outputs": [],
   "source": [
    "import pandas as pd"
   ]
  },
  {
   "cell_type": "code",
   "execution_count": null,
   "id": "f2f7ad9d",
   "metadata": {},
   "outputs": [],
   "source": []
  },
  {
   "cell_type": "code",
   "execution_count": null,
   "id": "cd5d70e2",
   "metadata": {},
   "outputs": [],
   "source": []
  },
  {
   "cell_type": "markdown",
   "id": "88a658bc",
   "metadata": {},
   "source": [
    "### Dealing with empty cells:\n",
    "\n",
    "---\n",
    "- Removing rows that contain empty cells\n",
    "- Filling empty cells (with specific value, mean, max, ..etc)"
   ]
  },
  {
   "cell_type": "code",
   "execution_count": null,
   "id": "8d7d6144",
   "metadata": {},
   "outputs": [],
   "source": [
    "#dropna\n",
    "#fillna"
   ]
  },
  {
   "cell_type": "markdown",
   "id": "75712820",
   "metadata": {},
   "source": [
    "### Dealing with data in wrong format:\n",
    "\n",
    "---\n",
    "- Converting data into correct format\n",
    "- Removing rows"
   ]
  },
  {
   "cell_type": "code",
   "execution_count": null,
   "id": "69aa3a8a",
   "metadata": {},
   "outputs": [],
   "source": [
    "#int(), str()\n",
    "#df.dropna(subset=['Date'], inplace = True)"
   ]
  },
  {
   "cell_type": "markdown",
   "id": "539cacd6",
   "metadata": {},
   "source": [
    "### Dealing with wrong data\n",
    "\n",
    "---\n",
    "- Replacing wrong data\n",
    "- Removing rows with wrong data"
   ]
  },
  {
   "cell_type": "code",
   "execution_count": null,
   "id": "a56078fb",
   "metadata": {},
   "outputs": [],
   "source": [
    "#.at if fatal=1 and fatalities=0\n",
    "#df.drop(i,inplace=True)"
   ]
  },
  {
   "cell_type": "markdown",
   "id": "ac2c539e",
   "metadata": {},
   "source": [
    "### Dealing with duplicates\n",
    "\n",
    "---\n",
    "- First, discover duplicates\n",
    "- Second, remove duplicates"
   ]
  },
  {
   "cell_type": "code",
   "execution_count": null,
   "id": "d10a2659",
   "metadata": {},
   "outputs": [],
   "source": [
    "#df.duplicated()\n",
    "#df.drop_duplicates()"
   ]
  },
  {
   "cell_type": "markdown",
   "id": "a6918430",
   "metadata": {},
   "source": [
    "### replace(), strip(), and split()\n",
    "\n",
    "---\n",
    "- replace(): to replace a value in a data frame or a column with another\n",
    "- strip(): to remove specific characters of column entries, or whitespaces if the characters are not specified\n",
    "- split(): to split strings given a separator\n"
   ]
  },
  {
   "cell_type": "markdown",
   "id": "f60f8d40",
   "metadata": {},
   "source": [
    "#### replace()"
   ]
  },
  {
   "cell_type": "code",
   "execution_count": null,
   "id": "206b6c34",
   "metadata": {},
   "outputs": [],
   "source": []
  },
  {
   "cell_type": "markdown",
   "id": "c5727611",
   "metadata": {},
   "source": [
    "#### strip()"
   ]
  },
  {
   "cell_type": "code",
   "execution_count": null,
   "id": "ff299cc6",
   "metadata": {},
   "outputs": [],
   "source": []
  },
  {
   "cell_type": "markdown",
   "id": "698a9475",
   "metadata": {},
   "source": [
    "#### split()"
   ]
  },
  {
   "cell_type": "code",
   "execution_count": null,
   "id": "3a83531d",
   "metadata": {},
   "outputs": [],
   "source": []
  }
 ],
 "metadata": {
  "kernelspec": {
   "display_name": "Python 3 (ipykernel)",
   "language": "python",
   "name": "python3"
  },
  "language_info": {
   "codemirror_mode": {
    "name": "ipython",
    "version": 3
   },
   "file_extension": ".py",
   "mimetype": "text/x-python",
   "name": "python",
   "nbconvert_exporter": "python",
   "pygments_lexer": "ipython3",
   "version": "3.9.7"
  }
 },
 "nbformat": 4,
 "nbformat_minor": 5
}
