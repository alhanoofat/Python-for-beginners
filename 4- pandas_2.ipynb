{
 "cells": [
  {
   "cell_type": "markdown",
   "id": "e80edd68",
   "metadata": {},
   "source": [
    "## Pandas"
   ]
  },
  {
   "cell_type": "markdown",
   "id": "9455754e",
   "metadata": {},
   "source": [
    "<a id='introduction'></a>\n",
    "\n",
    "### What is a dataframe?\n",
    "\n",
    "---\n",
    "The concept of a \"dataframe\" comes from the world of statistical software used in empirical research; \n",
    "- Generally refers to \"tabular\" data: a data structure representing cases (rows), each of which consists of a number of observations or measurements (columns)\n",
    "- **Each row** is treated as a **single observation** of **multiple \"variables\"** \n",
    "- The row (\"record\") datatype can be **heterogenous** (a tuple of different types) \n",
    "- The column datatype must be **homogenous**. \n",
    "- Data frames usually contain some **metadata** in addition to **data**; for example, column and row names (unlike Numpy by default)"
   ]
  },
  {
   "cell_type": "markdown",
   "id": "a6b1b7ca",
   "metadata": {},
   "source": [
    "<a id='introduction'></a>\n",
    "\n",
    "### What is `pandas`?\n",
    "\n",
    "---\n",
    "\n",
    "- A data analysis library — **P**anel **D**ata **S**ystem.\n",
    "- It was created by Wes McKinney and open sourced by AQR Capital Management, LLC in 2009.\n",
    "- It's implemented in highly optimized Python/Cython.\n",
    "- It's the **most ubiquitous tool** used to start data analysis projects within the Python scientific ecosystem.\n"
   ]
  },
  {
   "cell_type": "markdown",
   "id": "f3d1aaaf",
   "metadata": {},
   "source": [
    "### Pandas Use Cases\n",
    "\n",
    "---\n",
    "\n",
    "- Cleaning data/munging.\n",
    "- Exploratory analysis.\n",
    "- Structuring data for plots or tabular display.\n",
    "- Joining disparate sources.\n",
    "- Modeling.\n",
    "- Filtering, extracting, or transforming. \n"
   ]
  },
  {
   "cell_type": "markdown",
   "id": "58dba938",
   "metadata": {},
   "source": [
    "<hr>"
   ]
  },
  {
   "cell_type": "markdown",
   "id": "db5a7841",
   "metadata": {},
   "source": [
    "#### import library"
   ]
  },
  {
   "cell_type": "code",
   "execution_count": null,
   "id": "f9c0db41",
   "metadata": {},
   "outputs": [],
   "source": [
    "import pandas as pd"
   ]
  },
  {
   "cell_type": "code",
   "execution_count": null,
   "id": "117b813d",
   "metadata": {},
   "outputs": [],
   "source": [
    "x=[1,2,3,4,5]"
   ]
  },
  {
   "cell_type": "code",
   "execution_count": null,
   "id": "9bc5a23c",
   "metadata": {},
   "outputs": [],
   "source": [
    "s1= pd.Series(x)"
   ]
  },
  {
   "cell_type": "code",
   "execution_count": null,
   "id": "ac4665af",
   "metadata": {},
   "outputs": [],
   "source": [
    "s1"
   ]
  },
  {
   "cell_type": "markdown",
   "id": "fba454b3",
   "metadata": {},
   "source": [
    "#### create new data frame"
   ]
  },
  {
   "cell_type": "code",
   "execution_count": null,
   "id": "a2d7feaa",
   "metadata": {},
   "outputs": [],
   "source": [
    "m={'id':[1,2,3,4],'f_name':['modhi','shoug','talal','fahad'], 'age':[22,24,28,23]}"
   ]
  },
  {
   "cell_type": "code",
   "execution_count": null,
   "id": "e237ad54",
   "metadata": {},
   "outputs": [],
   "source": [
    "m"
   ]
  },
  {
   "cell_type": "code",
   "execution_count": null,
   "id": "1bdbc3c2",
   "metadata": {},
   "outputs": [],
   "source": [
    "df1=m"
   ]
  },
  {
   "cell_type": "code",
   "execution_count": null,
   "id": "2118dabd",
   "metadata": {},
   "outputs": [],
   "source": [
    "df1"
   ]
  },
  {
   "cell_type": "code",
   "execution_count": null,
   "id": "562d4b8c",
   "metadata": {},
   "outputs": [],
   "source": [
    "df1= pd.DataFrame(m)"
   ]
  },
  {
   "cell_type": "code",
   "execution_count": null,
   "id": "fb751b60",
   "metadata": {},
   "outputs": [],
   "source": [
    "df1"
   ]
  },
  {
   "cell_type": "code",
   "execution_count": null,
   "id": "c9961619",
   "metadata": {},
   "outputs": [],
   "source": []
  },
  {
   "cell_type": "markdown",
   "id": "097b7dc3",
   "metadata": {},
   "source": [
    "#### create new empty data frame"
   ]
  },
  {
   "cell_type": "code",
   "execution_count": null,
   "id": "01974d48",
   "metadata": {},
   "outputs": [],
   "source": [
    "df2=pd.DataFrame()"
   ]
  },
  {
   "cell_type": "code",
   "execution_count": null,
   "id": "017f6aa7",
   "metadata": {},
   "outputs": [],
   "source": [
    "df2"
   ]
  },
  {
   "cell_type": "markdown",
   "id": "511d626b",
   "metadata": {},
   "source": [
    "#### create new columns"
   ]
  },
  {
   "cell_type": "code",
   "execution_count": null,
   "id": "cb42914e",
   "metadata": {},
   "outputs": [],
   "source": [
    "df2['id']= [1,2,3,4]"
   ]
  },
  {
   "cell_type": "code",
   "execution_count": null,
   "id": "d47ec352",
   "metadata": {},
   "outputs": [],
   "source": [
    "df2"
   ]
  },
  {
   "cell_type": "code",
   "execution_count": null,
   "id": "0cbc7ef1",
   "metadata": {},
   "outputs": [],
   "source": [
    "df2['f_name']= ['modhi','shoug','talal','fahad']"
   ]
  },
  {
   "cell_type": "code",
   "execution_count": null,
   "id": "d996fcf8",
   "metadata": {},
   "outputs": [],
   "source": [
    "df2"
   ]
  },
  {
   "cell_type": "code",
   "execution_count": null,
   "id": "f309cffa",
   "metadata": {},
   "outputs": [],
   "source": [
    "df2['age']= [22,25,25,26]"
   ]
  },
  {
   "cell_type": "code",
   "execution_count": null,
   "id": "57ad261d",
   "metadata": {},
   "outputs": [],
   "source": [
    "df2"
   ]
  },
  {
   "cell_type": "markdown",
   "id": "8578c4e6",
   "metadata": {},
   "source": [
    "#### read existing data frame"
   ]
  },
  {
   "cell_type": "code",
   "execution_count": null,
   "id": "cb3f21c0",
   "metadata": {},
   "outputs": [],
   "source": [
    "crash= pd.read_excel('crash_sample.xlsx')"
   ]
  },
  {
   "cell_type": "code",
   "execution_count": null,
   "id": "bfbff8f6",
   "metadata": {},
   "outputs": [],
   "source": [
    "#df= pd.read_json('kjfvjk.json')"
   ]
  },
  {
   "cell_type": "code",
   "execution_count": null,
   "id": "55962fcd",
   "metadata": {},
   "outputs": [],
   "source": [
    "crash"
   ]
  },
  {
   "cell_type": "code",
   "execution_count": null,
   "id": "c339ddc2",
   "metadata": {},
   "outputs": [],
   "source": [
    "crash.shape"
   ]
  },
  {
   "cell_type": "markdown",
   "id": "ec07a260",
   "metadata": {},
   "source": [
    "#### head and tail"
   ]
  },
  {
   "cell_type": "code",
   "execution_count": null,
   "id": "3ef826d7",
   "metadata": {},
   "outputs": [],
   "source": [
    "crash.head(3)"
   ]
  },
  {
   "cell_type": "code",
   "execution_count": null,
   "id": "87d7e23f",
   "metadata": {},
   "outputs": [],
   "source": [
    "crash.tail(2)"
   ]
  },
  {
   "cell_type": "code",
   "execution_count": null,
   "id": "09a454c2",
   "metadata": {},
   "outputs": [],
   "source": [
    "crash.sample(5)"
   ]
  },
  {
   "cell_type": "markdown",
   "id": "a44af556",
   "metadata": {},
   "source": [
    "#### column names"
   ]
  },
  {
   "cell_type": "code",
   "execution_count": null,
   "id": "da78fe07",
   "metadata": {},
   "outputs": [],
   "source": [
    "crash.columns"
   ]
  },
  {
   "cell_type": "code",
   "execution_count": null,
   "id": "8641c588",
   "metadata": {},
   "outputs": [],
   "source": [
    "crash.info()"
   ]
  },
  {
   "cell_type": "code",
   "execution_count": null,
   "id": "eaaeb40b",
   "metadata": {},
   "outputs": [],
   "source": [
    "crash.describe(percentiles=[0.85,.9])"
   ]
  },
  {
   "cell_type": "markdown",
   "id": "55917e87",
   "metadata": {},
   "source": [
    "#### where condition"
   ]
  },
  {
   "cell_type": "code",
   "execution_count": null,
   "id": "1ad359bf",
   "metadata": {},
   "outputs": [],
   "source": [
    "#crash[crash['region']=='الجوف']\n",
    "\n",
    "crash[crash['fatalities']>1]"
   ]
  },
  {
   "cell_type": "code",
   "execution_count": null,
   "id": "423d3e2b",
   "metadata": {},
   "outputs": [],
   "source": [
    "\n",
    "crash[crash['fatalities']==3]"
   ]
  },
  {
   "cell_type": "code",
   "execution_count": null,
   "id": "b98600f9",
   "metadata": {},
   "outputs": [],
   "source": [
    "crash[crash['region']=='الرياض']"
   ]
  },
  {
   "cell_type": "code",
   "execution_count": null,
   "id": "234609c2",
   "metadata": {},
   "outputs": [],
   "source": [
    "crash[(crash['region']=='الرياض') | (crash['region']=='مكة المكرمة')]"
   ]
  },
  {
   "cell_type": "code",
   "execution_count": null,
   "id": "f2be2066",
   "metadata": {},
   "outputs": [],
   "source": [
    "#crash2"
   ]
  },
  {
   "cell_type": "code",
   "execution_count": null,
   "id": "69551545",
   "metadata": {},
   "outputs": [],
   "source": [
    "crash[crash['r_type']=='مزدوج']"
   ]
  },
  {
   "cell_type": "markdown",
   "id": "f66775b9",
   "metadata": {},
   "source": [
    "#### specific columns"
   ]
  },
  {
   "cell_type": "code",
   "execution_count": null,
   "id": "1a5dcdfa",
   "metadata": {},
   "outputs": [],
   "source": [
    "#crash[['c_type']]\n",
    "#crash[['','','','']]\n",
    "crash[['c_type']]"
   ]
  },
  {
   "cell_type": "code",
   "execution_count": null,
   "id": "029e7932",
   "metadata": {},
   "outputs": [],
   "source": [
    "crash.c_type\n",
    "crash['c_type']"
   ]
  },
  {
   "cell_type": "code",
   "execution_count": null,
   "id": "2938d838",
   "metadata": {},
   "outputs": [],
   "source": [
    "crash[['id','region','c_type']]"
   ]
  },
  {
   "cell_type": "code",
   "execution_count": null,
   "id": "45940ac5",
   "metadata": {},
   "outputs": [],
   "source": [
    "crash.head(2)"
   ]
  },
  {
   "cell_type": "markdown",
   "id": "5dc26f83",
   "metadata": {},
   "source": [
    "#### create new columns"
   ]
  },
  {
   "cell_type": "markdown",
   "id": "970c8c7c",
   "metadata": {},
   "source": [
    "##### 1. crash severity"
   ]
  },
  {
   "cell_type": "code",
   "execution_count": null,
   "id": "e6c47d26",
   "metadata": {},
   "outputs": [],
   "source": [
    "s=[]\n",
    "for i in range(len(crash)):\n",
    "    if crash['fatalities'][i]>=1:\n",
    "        s.append('fatal')\n",
    "    elif crash['injuries'][i]>=1:\n",
    "        s.append('injury')\n",
    "    else:\n",
    "        s.append('pdo')"
   ]
  },
  {
   "cell_type": "code",
   "execution_count": null,
   "id": "a0e415d5",
   "metadata": {},
   "outputs": [],
   "source": [
    "s"
   ]
  },
  {
   "cell_type": "code",
   "execution_count": null,
   "id": "ced6cab2",
   "metadata": {},
   "outputs": [],
   "source": [
    "crash['severity']= s"
   ]
  },
  {
   "cell_type": "code",
   "execution_count": null,
   "id": "9e1eb540",
   "metadata": {},
   "outputs": [],
   "source": [
    "crash.head(5)"
   ]
  },
  {
   "cell_type": "code",
   "execution_count": null,
   "id": "bd2565e4",
   "metadata": {},
   "outputs": [],
   "source": [
    "crash[crash['severity']=='fatal']"
   ]
  },
  {
   "cell_type": "code",
   "execution_count": null,
   "id": "ee0c9505",
   "metadata": {},
   "outputs": [],
   "source": [
    "crash[(crash['region']=='الرياض')&(crash['severity']=='fatal')]"
   ]
  },
  {
   "cell_type": "markdown",
   "id": "e04f6e20",
   "metadata": {},
   "source": [
    "##### 2. EPDO"
   ]
  },
  {
   "cell_type": "code",
   "execution_count": null,
   "id": "1adc6a62",
   "metadata": {},
   "outputs": [],
   "source": [
    "# fatal 275\n",
    "# injury 40\n",
    "# pdo 1"
   ]
  },
  {
   "cell_type": "code",
   "execution_count": null,
   "id": "749fd683",
   "metadata": {},
   "outputs": [],
   "source": [
    "r=[]\n",
    "for i in range (len(crash)):\n",
    "    if crash['severity'][i]=='fatal':\n",
    "        r.append(275)\n",
    "    elif crash['severity'][i]=='injury':\n",
    "        r.append(40)\n",
    "    else:\n",
    "        r.append(1)"
   ]
  },
  {
   "cell_type": "code",
   "execution_count": null,
   "id": "491ea647",
   "metadata": {},
   "outputs": [],
   "source": [
    "#r"
   ]
  },
  {
   "cell_type": "code",
   "execution_count": null,
   "id": "2aaa277d",
   "metadata": {},
   "outputs": [],
   "source": [
    "crash['epdo_value']=r"
   ]
  },
  {
   "cell_type": "code",
   "execution_count": null,
   "id": "45aa2760",
   "metadata": {},
   "outputs": [],
   "source": [
    "crash.sample(3)"
   ]
  },
  {
   "cell_type": "markdown",
   "id": "c654e5e6",
   "metadata": {},
   "source": [
    "#### counts and unique"
   ]
  },
  {
   "cell_type": "code",
   "execution_count": null,
   "id": "be25930b",
   "metadata": {},
   "outputs": [],
   "source": [
    "crash['region'].value_counts()"
   ]
  },
  {
   "cell_type": "code",
   "execution_count": null,
   "id": "c3113fa7",
   "metadata": {},
   "outputs": [],
   "source": [
    "crash['c_type'].unique()"
   ]
  },
  {
   "cell_type": "code",
   "execution_count": null,
   "id": "a8588cec",
   "metadata": {},
   "outputs": [],
   "source": [
    "crash['c_type'].value_counts()"
   ]
  },
  {
   "cell_type": "markdown",
   "id": "caaa4bb2",
   "metadata": {},
   "source": [
    "#### or, and"
   ]
  },
  {
   "cell_type": "code",
   "execution_count": null,
   "id": "1fd74650",
   "metadata": {},
   "outputs": [],
   "source": [
    "#or\n",
    "crash[(crash['region']=='الرياض') | (crash['region']=='مكة المكرمة')].sample(3)"
   ]
  },
  {
   "cell_type": "code",
   "execution_count": null,
   "id": "67545ff3",
   "metadata": {},
   "outputs": [],
   "source": [
    "#and\n",
    "crash[(crash['region']=='الرياض') & (crash['injuries']>1)]"
   ]
  },
  {
   "cell_type": "code",
   "execution_count": null,
   "id": "3c55045c",
   "metadata": {},
   "outputs": [],
   "source": [
    "crash2"
   ]
  },
  {
   "cell_type": "code",
   "execution_count": null,
   "id": "9ee8fa84",
   "metadata": {},
   "outputs": [],
   "source": [
    "crash2.to_excel('crashes in makkah and riyadh.xlsx', index=False)"
   ]
  },
  {
   "cell_type": "markdown",
   "id": "3d26a51f",
   "metadata": {},
   "source": [
    "#### Save data frame"
   ]
  },
  {
   "cell_type": "code",
   "execution_count": null,
   "id": "7a352379",
   "metadata": {},
   "outputs": [],
   "source": [
    "crash.to_excel('crash2.xlsx', index=False)"
   ]
  },
  {
   "cell_type": "markdown",
   "id": "8c311187",
   "metadata": {},
   "source": [
    "#### homework"
   ]
  },
  {
   "cell_type": "markdown",
   "id": "10db87c3",
   "metadata": {},
   "source": [
    "Create a new column in crash dataframe named 'area'. it should represent the area in which the crash took place based on the region. there are 5 possible areas: <i>najd, hijaz, northern, eastern, southern.</i><br>\n",
    "<ul>\n",
    "    <li>najd: الرياض، القصيم، حائل\n",
    "    </li>\n",
    "    <li>hijaz: مكة المكرمة، المدينة المنورة\n",
    "    </li>\n",
    "    <li>northern: الجوف، الحدود الشمالية، تبوك\n",
    "    </li>\n",
    "    <li>eastern: الشرقية\n",
    "    </li>\n",
    "    <li>southern: جازان، نجران، الباحة، عسير\n",
    "    </li>\n",
    "<u/l>"
   ]
  },
  {
   "cell_type": "markdown",
   "id": "c96baf8d",
   "metadata": {},
   "source": [
    "<hr>"
   ]
  },
  {
   "cell_type": "markdown",
   "id": "608f50bf",
   "metadata": {},
   "source": [
    "### Day 2"
   ]
  },
  {
   "cell_type": "markdown",
   "id": "8621f173",
   "metadata": {},
   "source": [
    "#### group by"
   ]
  },
  {
   "cell_type": "code",
   "execution_count": null,
   "id": "1e252e35",
   "metadata": {},
   "outputs": [],
   "source": [
    "crash.groupby('region').sum()"
   ]
  },
  {
   "cell_type": "code",
   "execution_count": null,
   "id": "b11577dd",
   "metadata": {},
   "outputs": [],
   "source": [
    "c1=crash.drop(['id','r_number','con_id'],axis=1).groupby(['region','r_type']).sum()"
   ]
  },
  {
   "cell_type": "code",
   "execution_count": null,
   "id": "bb22595d",
   "metadata": {},
   "outputs": [],
   "source": [
    "c1"
   ]
  },
  {
   "cell_type": "code",
   "execution_count": null,
   "id": "2fb580e3",
   "metadata": {},
   "outputs": [],
   "source": [
    "c1.to_excel('groupby c1.xlsx')"
   ]
  },
  {
   "cell_type": "code",
   "execution_count": null,
   "id": "ecb81ddd",
   "metadata": {},
   "outputs": [],
   "source": [
    "c1.to_excel('groupby c1_2.xlsx',index=False)"
   ]
  },
  {
   "cell_type": "code",
   "execution_count": null,
   "id": "b799979c",
   "metadata": {},
   "outputs": [],
   "source": [
    "c1.to_excel('groupby c1_3.xlsx',index=False)"
   ]
  },
  {
   "cell_type": "code",
   "execution_count": null,
   "id": "8eee6446",
   "metadata": {},
   "outputs": [],
   "source": [
    "c1.to_excel('groupby c1_4.xlsx')"
   ]
  },
  {
   "cell_type": "code",
   "execution_count": null,
   "id": "dc40297d",
   "metadata": {},
   "outputs": [],
   "source": [
    "c1=c1.reset_index()"
   ]
  },
  {
   "cell_type": "code",
   "execution_count": null,
   "id": "c51fb23b",
   "metadata": {},
   "outputs": [],
   "source": [
    "crash.groupby(by='region').mean()[['fatalities','injuries','vehicles','epdo_value']]"
   ]
  },
  {
   "cell_type": "code",
   "execution_count": null,
   "id": "b68144fb",
   "metadata": {},
   "outputs": [],
   "source": [
    "crash.groupby('region').sum()[['fatalities','injuries','epdo_value']].sort_values('epdo_value',ascending=False)"
   ]
  },
  {
   "cell_type": "code",
   "execution_count": null,
   "id": "1393036e",
   "metadata": {},
   "outputs": [],
   "source": [
    "crash.groupby('r_type').count()[['id']]"
   ]
  },
  {
   "cell_type": "markdown",
   "id": "01bd401d",
   "metadata": {},
   "source": [
    "#### read another sample of crash data"
   ]
  },
  {
   "cell_type": "code",
   "execution_count": null,
   "id": "001cf2d4",
   "metadata": {},
   "outputs": [],
   "source": [
    "crash2= pd.read_excel('crash_sample_2.xlsx')"
   ]
  },
  {
   "cell_type": "code",
   "execution_count": null,
   "id": "0cf0e120",
   "metadata": {},
   "outputs": [],
   "source": [
    "crash2"
   ]
  },
  {
   "cell_type": "markdown",
   "id": "29fa2b6f",
   "metadata": {},
   "source": [
    "#### concatenation"
   ]
  },
  {
   "cell_type": "code",
   "execution_count": null,
   "id": "aceda8b2",
   "metadata": {},
   "outputs": [],
   "source": [
    "df=pd.concat([crash,crash2])"
   ]
  },
  {
   "cell_type": "code",
   "execution_count": null,
   "id": "e06c575c",
   "metadata": {},
   "outputs": [],
   "source": [
    "df.tail(20)"
   ]
  },
  {
   "cell_type": "markdown",
   "id": "788690f1",
   "metadata": {},
   "source": [
    "#### join (merge)"
   ]
  },
  {
   "cell_type": "markdown",
   "id": "a8df834d",
   "metadata": {},
   "source": [
    "##### join crash data with road lengths by contract id and road id"
   ]
  },
  {
   "cell_type": "code",
   "execution_count": null,
   "id": "7bd58120",
   "metadata": {},
   "outputs": [],
   "source": [
    "length=pd.read_excel('lengths_sample.xlsx')"
   ]
  },
  {
   "cell_type": "code",
   "execution_count": null,
   "id": "300776bc",
   "metadata": {},
   "outputs": [],
   "source": [
    "length.head()"
   ]
  },
  {
   "cell_type": "code",
   "execution_count": null,
   "id": "e8eb2cf2",
   "metadata": {},
   "outputs": [],
   "source": [
    "df_m= pd.merge(df,length,left_on=['con_id','r_number'],right_on=['con','road'],how='left')"
   ]
  },
  {
   "cell_type": "code",
   "execution_count": null,
   "id": "781b9dba",
   "metadata": {},
   "outputs": [],
   "source": [
    "df_m.head()"
   ]
  },
  {
   "cell_type": "markdown",
   "id": "bf346583",
   "metadata": {},
   "source": [
    "#### single operation on columns"
   ]
  },
  {
   "cell_type": "code",
   "execution_count": null,
   "id": "af288570",
   "metadata": {},
   "outputs": [],
   "source": [
    "df_m['total_length']= df_m['single_len'] + df_m['dual_len'] + df_m['express_len']"
   ]
  },
  {
   "cell_type": "code",
   "execution_count": null,
   "id": "649da228",
   "metadata": {},
   "outputs": [],
   "source": [
    "df_m.head()"
   ]
  },
  {
   "cell_type": "code",
   "execution_count": null,
   "id": "fff51963",
   "metadata": {},
   "outputs": [],
   "source": []
  }
 ],
 "metadata": {
  "kernelspec": {
   "display_name": "Python 3 (ipykernel)",
   "language": "python",
   "name": "python3"
  },
  "language_info": {
   "codemirror_mode": {
    "name": "ipython",
    "version": 3
   },
   "file_extension": ".py",
   "mimetype": "text/x-python",
   "name": "python",
   "nbconvert_exporter": "python",
   "pygments_lexer": "ipython3",
   "version": "3.9.7"
  }
 },
 "nbformat": 4,
 "nbformat_minor": 5
}
