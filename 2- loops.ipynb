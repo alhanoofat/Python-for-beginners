{
 "cells": [
  {
   "cell_type": "markdown",
   "metadata": {},
   "source": [
    "<a name=\"for and while loops\"></a>\n",
    "## Introduction: for and while loops \n",
    "\n",
    "The for statement is used to iterate over the elements of a sequence, that means any kind of iterable object like strings, lists, tuples, dictionaries and so on. It's\n",
    "used when you have a piece of code which you want to repeat a certain number of times.\n",
    "\n",
    "The while loop tells the computer to do something as long as a condition is met.\n",
    "A while loop consists of a block of code and a condition. The condition\n",
    "is evaluated, and if the condition is true, the code within the\n",
    "block is executed. This repeats until the condition becomes false.\n",
    "\n",
    "[for and while loops at python for beginners](http://www.pythonforbeginners.com/control-flow-2/python-for-and-while-loops)\n",
    "\n",
    "[for and while loops at cyberciti](http://www.cyberciti.biz/faq/python-for-loop-examples-statements/)"
   ]
  },
  {
   "cell_type": "markdown",
   "metadata": {},
   "source": [
    "<a name=\"demo for\"></a>\n",
    "## for loops\n",
    "\n",
    "A for loop has the heading starting with `for`, followed by a\n",
    "variable name, the word `in`, some sequence, and a final colon.\n",
    "As with function definitions and other heading lines, the colon at the end of\n",
    "the line indicates that a consistently indented block of statements follows\n",
    "to complete the for loop.\n",
    "\n",
    "\n",
    "The general syntax for a **for loop** is indicated below:\n",
    "\n",
    "```python\n",
    "    for iterator_name in iterating_sequence:\n",
    "        …statements…\n",
    "```\n",
    "\n",
    "Let's try a simple repeat for loop. It serves to repeat the exact same action a specific number of times. In that case only the length of the sequence,\n",
    "not the individual elements are important."
   ]
  },
  {
   "cell_type": "code",
   "execution_count": null,
   "metadata": {},
   "outputs": [],
   "source": [
    "for i in range(10):\n",
    "    print('Hello')"
   ]
  },
  {
   "cell_type": "markdown",
   "metadata": {},
   "source": [
    "Using a for loop to go through the letters in a word"
   ]
  },
  {
   "cell_type": "code",
   "execution_count": null,
   "metadata": {},
   "outputs": [],
   "source": [
    "word = 'computer'\n",
    "l1=[3,4,8,5]\n",
    "for letter in l1:\n",
    "    print(letter)"
   ]
  },
  {
   "cell_type": "code",
   "execution_count": null,
   "metadata": {},
   "outputs": [],
   "source": []
  },
  {
   "cell_type": "markdown",
   "metadata": {},
   "source": [
    "Let's use a for loop to print out a list."
   ]
  },
  {
   "cell_type": "code",
   "execution_count": null,
   "metadata": {},
   "outputs": [],
   "source": [
    "teas = ['earl grey', 'darjeeling', 'english breakfast', 'lapsang souchong', \n",
    "        'oolong', 'kombucha', 'green tea']\n",
    "\n",
    "for tea in teas:\n",
    "    print(tea)"
   ]
  },
  {
   "cell_type": "markdown",
   "metadata": {},
   "source": [
    "[for loops at cyberciti](http://www.cyberciti.biz/faq/python-for-loop-examples-statements/)\n",
    "\n",
    "[for loops at python for beginners](http://www.pythonforbeginners.com/control-flow-2/python-for-and-while-loops)\n",
    "\n",
    "[for loops at python handson](http://anh.cs.luc.edu/python/hands-on/3.1/handsonHtml/loops.html)"
   ]
  },
  {
   "cell_type": "markdown",
   "metadata": {},
   "source": [
    "### for loops exercises"
   ]
  },
  {
   "cell_type": "markdown",
   "metadata": {},
   "source": [
    "Use a for loop to iterate over a string and append each letter to a list. Print the list"
   ]
  },
  {
   "cell_type": "code",
   "execution_count": null,
   "metadata": {},
   "outputs": [],
   "source": []
  },
  {
   "cell_type": "markdown",
   "metadata": {},
   "source": [
    "create a list of 6 integers named 'a'<br>\n",
    "use a for loop to iterate through 'a' to calculate the half of each element in 'a'<br>\n",
    "store the result in a new list named 'b'"
   ]
  },
  {
   "cell_type": "code",
   "execution_count": null,
   "metadata": {},
   "outputs": [],
   "source": [
    "a=[5,9,8,6,4,8]\n",
    "b=[]\n",
    "for i in range(len(a)):\n",
    "    b.append(a[i]/2)\n",
    "    \n",
    "b"
   ]
  },
  {
   "cell_type": "markdown",
   "metadata": {},
   "source": [
    "use a for loop to calculate the result of dividing elements of 'a' by its corresponding element of 'b'.<br>\n",
    "store the result in a new list named c"
   ]
  },
  {
   "cell_type": "code",
   "execution_count": null,
   "metadata": {},
   "outputs": [],
   "source": []
  },
  {
   "cell_type": "markdown",
   "metadata": {},
   "source": [
    "create a list named 'd' containing the following elements: 2,6,0,4,3,8<br>\n",
    "use a for loop to calculate the result of dividing elements of 'a' by its corresponding element of 'd'<br>\n",
    "append the result to a new list named 'e'<br>\n",
    "if the division is not possible, append the element of 'a' to 'e'"
   ]
  },
  {
   "cell_type": "code",
   "execution_count": null,
   "metadata": {},
   "outputs": [],
   "source": []
  },
  {
   "cell_type": "markdown",
   "metadata": {},
   "source": [
    "use for loop to iterate through 'd'<br>\n",
    "if it reaches the element '3', print 'done', and exit the loop"
   ]
  },
  {
   "cell_type": "code",
   "execution_count": null,
   "metadata": {},
   "outputs": [],
   "source": []
  },
  {
   "cell_type": "markdown",
   "metadata": {},
   "source": [
    "<hr>"
   ]
  },
  {
   "cell_type": "markdown",
   "metadata": {},
   "source": [
    "<a name=\"demo while\"></a>\n",
    "## while loops \n",
    "\n",
    "The general syntax for a **while loop** is indicated below:\n",
    "\n",
    "```python\n",
    "    while condition:\n",
    "        …statements…\n",
    "```\n",
    "\n",
    "The syntax includes the following parts:\n",
    "* in the first line\n",
    "    * the keyword **`while`** \n",
    "    * followed by a condition which evaluates to `true` or `false`\n",
    "    * followed by a colon\n",
    "* an indented code block including all statements to be executed if the condition evaluates to true\n",
    "\n",
    "Once the statements have been executed, the condition will be checked again, and if it still holds, the statements will be executed once more and so on. This means that if the condition is met initially but not modified by any of the statements it will simply keep running, so be careful.\n",
    "\n",
    "Let's create a simple counter using a while loop."
   ]
  },
  {
   "cell_type": "code",
   "execution_count": null,
   "metadata": {},
   "outputs": [],
   "source": [
    "count = 0\n",
    "while count < 5:\n",
    "    print(count)\n",
    "    count+=1"
   ]
  },
  {
   "cell_type": "markdown",
   "metadata": {},
   "source": [
    "Another counter using a while loop"
   ]
  },
  {
   "cell_type": "code",
   "execution_count": null,
   "metadata": {},
   "outputs": [],
   "source": [
    "a= 5\n",
    "a-=6\n",
    "a"
   ]
  },
  {
   "cell_type": "code",
   "execution_count": null,
   "metadata": {},
   "outputs": [],
   "source": [
    "a =1\n",
    "while a < 10:\n",
    "    a *= 2\n",
    "    print(a)"
   ]
  },
  {
   "cell_type": "markdown",
   "metadata": {},
   "source": [
    "And one more..."
   ]
  },
  {
   "cell_type": "code",
   "execution_count": null,
   "metadata": {
    "scrolled": true
   },
   "outputs": [],
   "source": [
    "reply=''\n",
    "while reply != 'STOP':\n",
    "    reply = input('Enter text, [type \"stop\" to quit]: ')\n",
    "    reply = reply.upper()\n",
    "    print(reply)"
   ]
  },
  {
   "cell_type": "code",
   "execution_count": null,
   "metadata": {},
   "outputs": [],
   "source": [
    "b=int(input('sample size?'))"
   ]
  },
  {
   "cell_type": "code",
   "execution_count": null,
   "metadata": {},
   "outputs": [],
   "source": [
    "speeds=[]\n",
    "c=1\n",
    "while c<=b:\n",
    "    try:\n",
    "        speeds.append(int(input('enter speed')))\n",
    "        c+=1\n",
    "    except:\n",
    "        print('wrong entry')"
   ]
  },
  {
   "cell_type": "code",
   "execution_count": null,
   "metadata": {},
   "outputs": [],
   "source": [
    "speeds"
   ]
  },
  {
   "cell_type": "code",
   "execution_count": null,
   "metadata": {},
   "outputs": [],
   "source": [
    "try:\n",
    "    a=int(input('how old are you?'))\n",
    "except:\n",
    "    print('come on!!!!')"
   ]
  },
  {
   "cell_type": "code",
   "execution_count": null,
   "metadata": {},
   "outputs": [],
   "source": [
    "a*2"
   ]
  },
  {
   "cell_type": "markdown",
   "metadata": {},
   "source": [
    "This while loop will stop when the user types \"stop\".\n",
    "\n",
    "Remember, a while loop runs until the condition is False. The problem is,\n",
    "sometimes they don't stop. To avoid this, here are some rules to follow:\n",
    "\n",
    "* Make sure that you use while-loops sparingly. Usually a for-loop is better.\n",
    "* Review your while statements and make sure that the boolean test will\n",
    "   become False at some point.\n",
    "* When in doubt, print out your test variable at the top and bottom of the\n",
    "   while-loop to see what it's doing.\n",
    "   \n",
    "[while loops at learn python the hard way](http://learnpythonthehardway.org/book/ex33.html)"
   ]
  }
 ],
 "metadata": {
  "anaconda-cloud": {},
  "kernelspec": {
   "display_name": "Python 3 (ipykernel)",
   "language": "python",
   "name": "python3"
  },
  "language_info": {
   "codemirror_mode": {
    "name": "ipython",
    "version": 3
   },
   "file_extension": ".py",
   "mimetype": "text/x-python",
   "name": "python",
   "nbconvert_exporter": "python",
   "pygments_lexer": "ipython3",
   "version": "3.9.7"
  },
  "toc": {
   "nav_menu": {},
   "number_sections": false,
   "sideBar": true,
   "skip_h1_title": true,
   "title_cell": "Table of Contents",
   "title_sidebar": "Contents",
   "toc_cell": false,
   "toc_position": {},
   "toc_section_display": "block",
   "toc_window_display": false
  }
 },
 "nbformat": 4,
 "nbformat_minor": 1
}
